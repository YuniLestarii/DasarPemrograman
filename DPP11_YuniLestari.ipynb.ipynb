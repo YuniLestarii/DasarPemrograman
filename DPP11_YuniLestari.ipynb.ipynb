{
  "cells": [
    {
      "cell_type": "markdown",
      "source": [
        "Nam : Yuni Lestari NIM : 20220040006 Kelas :TI22C"
      ],
      "metadata": {
        "id": "qL4PWlItp4-0"
      }
    },
    {
      "cell_type": "markdown",
      "metadata": {
        "id": "j3EnJW8MgkXY"
      },
      "source": [
        "<h2>Pengertian</h2>\n",
        "<ol>\n",
        "    <li>Fungsi pada python adalah kumpulan perintah atau baris kode yang dikelompokkan menjadi satu kesatuan untuk kemudian bisa dipanggil atau digunakan berkali-kali.</li>\n",
        "    <li>Sebuah fungsi dapat menerima parameter, dapat mengembalikan suatu nilai, dan dapat dipanggil berkali-kali secara independen.</li>\n",
        "</ol>\n",
        "<hr>\n",
        "<h2>Keuntungan</h2>\n",
        "<ol>\n",
        "    <li>Membagi kode program menjadi bagian-bagian kecil dengan tugasnya masing-masing.</li>\n",
        "    <li>Membuat kode program menjadi lebih “reusable” dan lebih terstruktur.</li>\n",
        "</ol>\n",
        "<hr>\n",
        "<h2>Sintaks</h2>\n",
        "\n",
        "```python\n",
        "def function_name():\n",
        "    Logic Program\n",
        "```\n",
        "Cara memanggil fungsi dengan menuliskan function_name diikuti kurung buka tutup () beserta parameter jika ada\n",
        "\n",
        "```python\n",
        "    function_name()\n",
        "```\n",
        "<hr>\n",
        "Buatlah fungsi dengan nama \"helloPython\" yang berfungsi untuk mencetak \"Welcome in Python Language\" "
      ]
    },
    {
      "cell_type": "code",
      "execution_count": 2,
      "metadata": {
        "id": "GxeiQr9pgkXc",
        "outputId": "4be542da-b60c-4062-f63d-97190ec97357",
        "colab": {
          "base_uri": "https://localhost:8080/"
        }
      },
      "outputs": [
        {
          "output_type": "stream",
          "name": "stdout",
          "text": [
            "Welcom in Phyton Language\n"
          ]
        }
      ],
      "source": [
        "def helloPhyton():\n",
        "  print('Welcom in Phyton Language')\n",
        "helloPhyton()"
      ]
    },
    {
      "cell_type": "markdown",
      "metadata": {
        "id": "-R9DBzffgkXd"
      },
      "source": [
        "<h1>Fungsi dengan parameter</h1>\n",
        "Sebuah fungsi dapat menerima parameter ataupun argumen yang merupakan suatu nilai/variabel yang dilemparkan ke dalam fungsi untuk diproses lebih lanjut.\n",
        "\n",
        "<h2>Sintaks</h2>\n",
        "\n",
        "```python\n",
        "def function_name(param):\n",
        "    Logic Program\n",
        "```\n",
        "Cara memanggil fungsi dengan menuliskan function_name diikuti kurung buka tutup () beserta parameter\n",
        "\n",
        "```python\n",
        "    function_name(param)\n",
        "```\n",
        "<hr>"
      ]
    },
    {
      "cell_type": "markdown",
      "metadata": {
        "id": "-sW7ePCYgkXd"
      },
      "source": [
        "Buatlah fungsi dengan nama \"fullName\" yang mempunyai parameter \"firstname\" dan \"lastname\" digunakan untuk mencetak \"firstname\" dan \"lastname\""
      ]
    },
    {
      "cell_type": "code",
      "execution_count": 3,
      "metadata": {
        "id": "2CEqL0uagkXd",
        "outputId": "c85e5bb6-a77e-462c-ee72-d60103479699",
        "colab": {
          "base_uri": "https://localhost:8080/"
        }
      },
      "outputs": [
        {
          "output_type": "stream",
          "name": "stdout",
          "text": [
            "Yuni Lestari\n"
          ]
        }
      ],
      "source": [
        "def fullname(firstname,lastname):\n",
        "  print(firstname,lastname)\n",
        "\n",
        "fullname(\"Yuni\",\"Lestari\")"
      ]
    },
    {
      "cell_type": "markdown",
      "metadata": {
        "id": "x-wPF0aMgkXe"
      },
      "source": [
        "Parameter fungsi diperbolehkan menggunakan lebih dari 1, dimana paramater tersebut ada yang wajib harus diisi dan ada yang tidak harus diisi\n",
        "\n",
        "```python\n",
        "def function_name(param_1, param_2, param_3,....):\n",
        "    Logic Program\n",
        "```\n",
        "\n",
        "Cara memanggil fungsi dengan menuliskan function_name diikuti kurung buka tutup () beserta parameter\n",
        "\n",
        "```python\n",
        "    function_name(param_1, param_2, param_3)\n",
        "```\n",
        "<hr>\n",
        "Buatlah fungsi dengan nama maxValue yang mempunyai parameter \"val_1\",\"val_2\" dan \"val_3\" yang bertujuan untuk mencari nilai terbesar dari 3 nilai tersebut"
      ]
    },
    {
      "cell_type": "code",
      "execution_count": 4,
      "metadata": {
        "id": "9rFgeGXKgkXe",
        "outputId": "c1842cb1-05dc-4f5b-cef4-4709a5865063",
        "colab": {
          "base_uri": "https://localhost:8080/"
        }
      },
      "outputs": [
        {
          "output_type": "stream",
          "name": "stdout",
          "text": [
            "input Val 1 =1\n",
            "input Val 2 =2\n",
            "input Val 3 =3\n",
            "3\n"
          ]
        }
      ],
      "source": [
        "def maxValue(val_1,val_2,val_3):\n",
        "  a = max(val_1,val_2,val_3) \n",
        "  print(a)\n",
        "\n",
        "input_Val1,input_Val2,input_Val3 = int(input(\"input Val 1 =\")),int(input(\"input Val 2 =\")),int(input(\"input Val 3 =\"))\n",
        "maxValue(input_Val1,input_Val2,input_Val3)"
      ]
    },
    {
      "cell_type": "markdown",
      "metadata": {
        "id": "pUggBeY9gkXe"
      },
      "source": [
        "Parameter opsional digunakan pada fungsi dengan cara memberikan nilai default, artinya nilai parameter sudah diberikan terlebih dahulu tanpa dipanggil\n",
        "\n",
        "```python\n",
        "def function_name(param_1, param_2, param_3 = 'Nilai'):\n",
        "    Logic Program\n",
        "```"
      ]
    },
    {
      "cell_type": "markdown",
      "metadata": {
        "id": "-O_8fOqAgkXf"
      },
      "source": [
        "Buatlah fungsi \"countCircleArea\" dengan 2 parameter yaitu \"phi\" dan \"diameter\" dimana parameter phi mempunyai nilai default 3.14"
      ]
    },
    {
      "cell_type": "code",
      "execution_count": 5,
      "metadata": {
        "id": "SlLyyXMSgkXf",
        "outputId": "3a0adc18-9941-4325-839f-51b26dea0eac",
        "colab": {
          "base_uri": "https://localhost:8080/"
        }
      },
      "outputs": [
        {
          "output_type": "stream",
          "name": "stdout",
          "text": [
            "masukan ruas lingkarannya =25\n",
            "1962.5\n"
          ]
        }
      ],
      "source": [
        "def countCircleArea(ruas,phi = 3.14):\n",
        "  \"\"\" luas lingkaran\"\"\"\n",
        "  luas = phi*ruas*ruas\n",
        "  print(luas)\n",
        "\n",
        "ruasnya = float(input('masukan ruas lingkarannya ='))\n",
        "\n",
        "countCircleArea(ruasnya)"
      ]
    },
    {
      "cell_type": "markdown",
      "metadata": {
        "id": "CcWFMALegkXf"
      },
      "source": [
        "Fungsi dengan 2 Parameter opsional juga dapat dilakukan pada Python. \n",
        "\n",
        "```python\n",
        "def info(suhu, daerah='Sukabumi', satuan = 'Celcius'):\n",
        "    print(f\"Suhu sekarang di {daerah} : {suhu} {satuan} \")\n",
        "```\n",
        "Adapun Cara memanggilnya\n",
        "\n",
        "```python\n",
        "    info(30)\n",
        "```"
      ]
    },
    {
      "cell_type": "code",
      "execution_count": 10,
      "metadata": {
        "id": "VTRbLbDegkXf",
        "outputId": "71c49e02-a1a8-4a7b-b150-f338a9d9f4af",
        "colab": {
          "base_uri": "https://localhost:8080/"
        }
      },
      "outputs": [
        {
          "output_type": "stream",
          "name": "stdout",
          "text": [
            "Suhu sekarang di JampangKulon : 30 Celcius \n"
          ]
        }
      ],
      "source": [
        "#Cobalah fungsi tersebut pada area kode disini\n",
        "def info(suhu, daerah='JampangKulon', satuan = 'Celcius'):\n",
        "  print(f\"Suhu sekarang di {daerah} : {suhu} {satuan} \")\n",
        "\n",
        "info(30)"
      ]
    },
    {
      "cell_type": "markdown",
      "metadata": {
        "id": "k7evXSnegkXg"
      },
      "source": [
        "<h1>Fungsi dengan Return Value</h1>\n",
        "\n",
        "Yaitu fungsi dimana akhir dari programnya adalah nilai kembalian atau nilai balik. Artinya nilai dalam fungsi dapat ditampung lagi ke variabel lain untuk digunakan operasi lebih lanjut.\n",
        "\n",
        "Buatlah fungsi dengan return value yang digunakan untuk mengecek sebuah bilangan termasuk bilangan negatif, bilangan neteral(0) dan bilangan positif"
      ]
    },
    {
      "cell_type": "code",
      "execution_count": 12,
      "metadata": {
        "id": "hLoQtBf7gkXg",
        "outputId": "47b65bea-f293-497b-faca-106c9211e145",
        "colab": {
          "base_uri": "https://localhost:8080/"
        }
      },
      "outputs": [
        {
          "output_type": "stream",
          "name": "stdout",
          "text": [
            "input the value =2\n",
            "positif\n"
          ]
        }
      ],
      "source": [
        "def FungsiReturn(val):\n",
        "  if val == 0:\n",
        "    return \"neetral\"\n",
        "  elif val % 2 == 0:\n",
        "    return \"positif\"\n",
        "  else:\n",
        "    return \"negatif\"\n",
        "\n",
        "valinput = float(input('input the value ='))\n",
        "print(FungsiReturn(valinput))\n"
      ]
    },
    {
      "cell_type": "markdown",
      "metadata": {
        "id": "xvFf6_70gkXh"
      },
      "source": [
        "<h3>Soal Latihan</h3>\n",
        "<ol>\n",
        "    <li>Buatlah fungsi untuk menjumlahkan total nilai dari list</li>\n",
        "    <li>Buatlah fungsi untuk mencari nilai terbesar dari sekumpulan list </li>\n",
        "    <li>Buatlah fungsi untuk menjumlahkan 2 buah list </li>\n",
        "</ol>\n"
      ]
    },
    {
      "cell_type": "code",
      "execution_count": 14,
      "metadata": {
        "id": "BsQOvUjAgkXh",
        "outputId": "fdc07182-81eb-40f2-e7c0-41ee462b6047",
        "colab": {
          "base_uri": "https://localhost:8080/"
        }
      },
      "outputs": [
        {
          "output_type": "execute_result",
          "data": {
            "text/plain": [
              "550"
            ]
          },
          "metadata": {},
          "execution_count": 14
        }
      ],
      "source": [
        "#Soal 1\n",
        "def TotalNilaiList(listnya):\n",
        " jumlah = sum(listnya)\n",
        " return jumlah\n",
        "\n",
        "tilist = [10,20,30,40,50,60,70,80,90,100]\n",
        "\n",
        "TotalNilaiList(tilist)"
      ]
    },
    {
      "cell_type": "code",
      "execution_count": 15,
      "metadata": {
        "id": "vKQ4a3UpgkXh",
        "outputId": "1a5a94ef-61e1-45f9-b5f7-89cf6075da37",
        "colab": {
          "base_uri": "https://localhost:8080/"
        }
      },
      "outputs": [
        {
          "output_type": "execute_result",
          "data": {
            "text/plain": [
              "100"
            ]
          },
          "metadata": {},
          "execution_count": 15
        }
      ],
      "source": [
        "#Soal 2\n",
        "def TotalNilaiList(listnya):\n",
        "  maxval = max(listnya)\n",
        "  return maxval\n",
        "\n",
        "tilist = [10,20,30,40,50,60,70,80,90,100]\n",
        "\n",
        "TotalNilaiList(tilist)\n"
      ]
    },
    {
      "cell_type": "code",
      "execution_count": 18,
      "metadata": {
        "id": "DnWw7yftgkXh",
        "outputId": "b1740dea-3ff3-4e2d-bc45-8a62ab88ac3e",
        "colab": {
          "base_uri": "https://localhost:8080/"
        }
      },
      "outputs": [
        {
          "output_type": "execute_result",
          "data": {
            "text/plain": [
              "2100"
            ]
          },
          "metadata": {},
          "execution_count": 18
        }
      ],
      "source": [
        "#Soal 3\n",
        "def TotalNilaiList(list1,list2):\n",
        "  jumlah = sum(list1) + sum(list2)\n",
        "  return jumlah\n",
        "\n",
        "tilist = [10,20,30,40,50,60,70,80,90,100]\n",
        "tilist2 = [110,120,130,140,150,160,170,180,190,200]\n",
        "2100\n",
        "TotalNilaiList(tilist,tilist2)"
      ]
    }
  ],
  "metadata": {
    "kernelspec": {
      "display_name": "Python 3",
      "language": "python",
      "name": "python3"
    },
    "language_info": {
      "codemirror_mode": {
        "name": "ipython",
        "version": 3
      },
      "file_extension": ".py",
      "mimetype": "text/x-python",
      "name": "python",
      "nbconvert_exporter": "python",
      "pygments_lexer": "ipython3",
      "version": "3.8.5"
    },
    "colab": {
      "provenance": []
    }
  },
  "nbformat": 4,
  "nbformat_minor": 0
}